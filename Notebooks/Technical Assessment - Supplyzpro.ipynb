{
 "cells": [
  {
   "cell_type": "markdown",
   "metadata": {},
   "source": [
    "# SupplyzPro: Technical Assessment"
   ]
  },
  {
   "cell_type": "markdown",
   "metadata": {},
   "source": [
    "# 1. Assessment Introduction"
   ]
  },
  {
   "cell_type": "markdown",
   "metadata": {},
   "source": [
    "## Goal"
   ]
  },
  {
   "cell_type": "markdown",
   "metadata": {},
   "source": [
    "\n",
    "\n",
    "\n",
    "In this assessment, your objective is to explore and forecast the industrial production of electric and gas utilities in the United States from 1939 to 2019. The data, sourced from the Federal Reserve Economic Data (FRED) database, provides monthly production output, allowing us to analyze long-term trends, seasonal patterns, and forecast future values.\n",
    "\n",
    "Data Source: Industrial Production: Electric and Gas Utilities \n",
    "Link: https://fred.stlouisfed.org/series/IPG2211A2N\n",
    "\n",
    "\n"
   ]
  },
  {
   "cell_type": "markdown",
   "metadata": {},
   "source": [
    "## Recommendations\n"
   ]
  },
  {
   "cell_type": "markdown",
   "metadata": {},
   "source": [
    "As you proceed, keep in mind the following evaluation criteria:\n",
    "\n",
    "- Code Modularity: Structure your code into clear, reusable functions where possible.\n",
    "- Code Quality: Ensure readability, use meaningful variable names, and document your steps.\n",
    "- Explain Your Reasoning: Include comments and markdown explanations for each decision made, describing your approach and any assumptions.\n",
    "\n",
    "**IMPORTANT: We highly recommend structuring the code in separate scripts instead of using a single notebook for everything.!** \n"
   ]
  },
  {
   "cell_type": "markdown",
   "metadata": {},
   "source": [
    "# Code "
   ]
  },
  {
   "cell_type": "markdown",
   "metadata": {},
   "source": [
    "## 1. Data Exploration\n"
   ]
  },
  {
   "cell_type": "markdown",
   "metadata": {},
   "source": [
    "In this section we recommend you to:\n",
    "- Visualizing the data to get an overview of its patterns and structure.\n",
    "- Preparing the data as needed to ensure it’s ready for analysis.\n",
    "- Identifying any trends or recurring patterns that may influence the approach to modeling.\n"
   ]
  },
  {
   "cell_type": "markdown",
   "metadata": {},
   "source": [
    "## 2. Model Building"
   ]
  },
  {
   "cell_type": "markdown",
   "metadata": {},
   "source": [
    "In this section, focus on:\n",
    "\n",
    "- Selecting model parameters based on initial observations.\n",
    "- Building appropriate models that align with the data characteristics.\n",
    "- Refining the model through adjustments to enhance its ability to capture essential patterns.\n"
   ]
  },
  {
   "cell_type": "markdown",
   "metadata": {},
   "source": [
    "## 3. Model Evaluation"
   ]
  },
  {
   "cell_type": "markdown",
   "metadata": {},
   "source": [
    "In this section, aim to:\n",
    "\n",
    "- Evaluate the model’s accuracy by applying relevant metrics.\n",
    "- Examine the model’s results to confirm it captures key aspects of the data.\n",
    "- Assess the model’s predictive capability, noting any potential limitations.\n"
   ]
  }
 ],
 "metadata": {
  "language_info": {
   "name": "python"
  }
 },
 "nbformat": 4,
 "nbformat_minor": 2
}
